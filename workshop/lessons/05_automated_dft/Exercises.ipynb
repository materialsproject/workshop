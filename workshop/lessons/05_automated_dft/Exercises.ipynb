{
 "cells": [
  {
   "cell_type": "markdown",
   "metadata": {},
   "source": [
    "# Automating DFT Exercises\n",
    "\n",
    "## Exercise 1: Writing Input Files\n",
    "\n",
    "For these exercises we'll start off with a aluminum chromium alloy structure and an ethylene carbonate molecule. In these exercises our goals wil be to:\n",
    "\n",
    "**1.1:** Write `MPStaticSet` VASP input files for an aluminum chromium alloy (`struct`)\n",
    "\n",
    "**1.2:** Write `OptSet` Q-Chem input files for ethylene carbonate (`mol`)"
   ]
  },
  {
   "cell_type": "code",
   "execution_count": null,
   "metadata": {},
   "outputs": [],
   "source": [
    "import mp_workshop"
   ]
  },
  {
   "cell_type": "code",
   "execution_count": null,
   "metadata": {},
   "outputs": [],
   "source": [
    "from pymatgen.core import Structure\n",
    "struct = Structure.from_file(filename=\"./example_files/Al16Cr10.cif\")\n",
    "print(struct.composition)"
   ]
  },
  {
   "cell_type": "code",
   "execution_count": null,
   "metadata": {},
   "outputs": [],
   "source": [
    "from pymatgen.core import Molecule\n",
    "mol = Molecule.from_file(\"./example_files/ethylene_carbonate.xyz\")\n",
    "print(mol.composition)"
   ]
  },
  {
   "cell_type": "markdown",
   "metadata": {},
   "source": [
    "### Exercise 1.1\n",
    "\n",
    "Let's try writing the input files for a different type of VASP calculation, MPStatic set. First we'll need to start by importing the `MPStaticSet` object. Then we must initiate the InputSet object with our desired structure. Finally, we can use the `.write_input()` method to write out our VASP input files into the directory we specify.\n",
    "\n",
    "**Hint 1:** The import statement is similar to MPRelaxSet from Lesson 1 below.\n",
    "\n",
    "`from pymatgen.io.vasp.sets import MPRelaxSet`\n",
    "\n",
    "**Hint 2:** Remember to include the `potcar_spec=True` flag when using `.write_input()`"
   ]
  },
  {
   "cell_type": "code",
   "execution_count": null,
   "metadata": {},
   "outputs": [],
   "source": []
  },
  {
   "cell_type": "code",
   "execution_count": null,
   "metadata": {},
   "outputs": [],
   "source": []
  },
  {
   "cell_type": "code",
   "execution_count": null,
   "metadata": {},
   "outputs": [],
   "source": []
  },
  {
   "cell_type": "markdown",
   "metadata": {},
   "source": [
    "### Exercise 1.2\n",
    "\n",
    "Now let's try writing input files for a different external code, Q-Chem. Even though we have not worked with Q-Chem before, the steps are similar to how we approach writing input files for VASP.\n",
    "\n",
    "First we must modify the import statement to find `OptSet` from the Q-Chem IO sets. Then we must initiate the InputSet object with our ethylene carbonate molecule. Finally, we must find the method used for writing out the input file for Q-Chem. Note Q-Chem only requires a single input file so we will need to specify a filename instead of a directory.\n",
    "\n",
    "**Hint:** Use `shift+tab` and `tab` to explore autocomplete options as you search for new modules or methods."
   ]
  },
  {
   "cell_type": "code",
   "execution_count": null,
   "metadata": {},
   "outputs": [],
   "source": []
  },
  {
   "cell_type": "code",
   "execution_count": null,
   "metadata": {},
   "outputs": [],
   "source": []
  },
  {
   "cell_type": "code",
   "execution_count": null,
   "metadata": {},
   "outputs": [],
   "source": []
  },
  {
   "cell_type": "markdown",
   "metadata": {},
   "source": [
    "## Exercise 2: Parsing Output Files\n",
    "\n",
    "For these exercises we'll be working with example output files in two directories. We'll pick-up where we left off in Lesson 2 where we have imported VaspDrone from atomate, initiated the drone object, and have used the .assimulate() method to parse the output directory.\n",
    "\n",
    "**2.1:** Explore the `task_doc` produced by `VaspDrone` to parse the files in `example_VASP_Al16Cr10`\n",
    "\n",
    "**2.2:** Use `QChemDrone` to parse the files in `example_QChem_ethylene_carbonate`"
   ]
  },
  {
   "cell_type": "code",
   "execution_count": null,
   "metadata": {},
   "outputs": [],
   "source": [
    "from atomate.vasp.drones import VaspDrone"
   ]
  },
  {
   "cell_type": "code",
   "execution_count": null,
   "metadata": {},
   "outputs": [],
   "source": [
    "drone = VaspDrone()"
   ]
  },
  {
   "cell_type": "code",
   "execution_count": null,
   "metadata": {},
   "outputs": [],
   "source": [
    "task_doc = drone.assimilate(path=\"./example_VASP_Al16Cr10\")"
   ]
  },
  {
   "cell_type": "markdown",
   "metadata": {},
   "source": [
    "### Exercise 2.1\n",
    "\n",
    "Answer the following questions by examining the information parsed by the drone and stored in `task_doc`.\n",
    "\n",
    "    Q1. How many sites are in our calculation's structure?\n",
    "    \n",
    "    Q2. What is the final energy? Does this match the vasp.xml final energy found during the  Vasprun demonstration from Lesson 2 (-157.80974238 eV)?\n",
    "    \n",
    "    Q3. What is the final energy per atom? Does this make sense based on dividing your answers from the past two questions?\n",
    "\n",
    "**Hint:** Recall you can explore the fields in a dictionary using `task_doc.keys()` to navigate what is available in the dictionary."
   ]
  },
  {
   "cell_type": "code",
   "execution_count": null,
   "metadata": {},
   "outputs": [],
   "source": []
  },
  {
   "cell_type": "code",
   "execution_count": null,
   "metadata": {},
   "outputs": [],
   "source": []
  },
  {
   "cell_type": "code",
   "execution_count": null,
   "metadata": {},
   "outputs": [],
   "source": []
  },
  {
   "cell_type": "code",
   "execution_count": null,
   "metadata": {},
   "outputs": [],
   "source": []
  },
  {
   "cell_type": "code",
   "execution_count": null,
   "metadata": {},
   "outputs": [],
   "source": []
  },
  {
   "cell_type": "code",
   "execution_count": null,
   "metadata": {},
   "outputs": [],
   "source": []
  },
  {
   "cell_type": "markdown",
   "metadata": {},
   "source": [
    "### Exercise 2.2\n",
    "\n",
    "Even though we are parsing the outputs from a different code, the process is similar to the approach we used with VASP. First we must import `QChemDrone` from the Q-Chem module of atomate. Then we must initiate the drone object. Then we can use the `.assimilate()` method from the drone to parse the ethylene molecule directory, `\"./example_QChem_ethylene_carbonate\"`.\n",
    "\n",
    "**Hint 1:** Recall the code for importing a drone, initializing the drone object, and parsing a directory for VASP are included at the beginning of this exercise. While modifications will be needed, this is a great starting point!\n",
    "\n",
    "**Hint 2:** Note that `QChemDrone.assimilate()` has additional input parameters. Can you infer what the values should be based on the files in `example_QChem_ethylene_carbonate`?\n",
    "\n",
    "    input_file (str): base name of the input file(s)\n",
    "    output_file (str): base name of the output file(s)\n",
    "    multirun (bool): Whether the job to parse includes multiple\n",
    "                     calculations in one input / output pair."
   ]
  },
  {
   "cell_type": "code",
   "execution_count": null,
   "metadata": {},
   "outputs": [],
   "source": []
  },
  {
   "cell_type": "code",
   "execution_count": null,
   "metadata": {},
   "outputs": [],
   "source": []
  },
  {
   "cell_type": "code",
   "execution_count": null,
   "metadata": {},
   "outputs": [],
   "source": []
  },
  {
   "cell_type": "code",
   "execution_count": null,
   "metadata": {},
   "outputs": [],
   "source": []
  }
 ],
 "metadata": {
  "kernelspec": {
   "display_name": "cms38",
   "language": "python",
   "name": "cms38"
  },
  "language_info": {
   "codemirror_mode": {
    "name": "ipython",
    "version": 3
   },
   "file_extension": ".py",
   "mimetype": "text/x-python",
   "name": "python",
   "nbconvert_exporter": "python",
   "pygments_lexer": "ipython3",
   "version": "3.8.8"
  }
 },
 "nbformat": 4,
 "nbformat_minor": 5
}
